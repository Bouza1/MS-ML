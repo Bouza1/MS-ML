{
 "cells": [
  {
   "cell_type": "code",
   "execution_count": 3,
   "metadata": {},
   "outputs": [],
   "source": [
    "# -------------------------------------------------------- Imports --------------------------------------------------------\n",
    "import pandas as pd\n",
    "from sklearn.linear_model import LogisticRegression\n",
    "from sklearn.model_selection import train_test_split, cross_val_score\n",
    "from sklearn.metrics import accuracy_score,precision_score,confusion_matrix,classification_report, precision_recall_curve\n",
    "from sklearn.svm import SVC\n",
    "import numpy as np"
   ]
  },
  {
   "cell_type": "code",
   "execution_count": null,
   "metadata": {},
   "outputs": [],
   "source": [
    "# -------------------------------------------------------- Load Data --------------------------------------------------------\n",
    "cuisines_df = pd.read_csv(\"cleaned_cuisines.csv\")\n",
    "cuisines_df.head()"
   ]
  },
  {
   "cell_type": "code",
   "execution_count": null,
   "metadata": {},
   "outputs": [],
   "source": [
    "# -------------------------------------------------------- Shape Data --------------------------------------------------------\n",
    "cuisines_label_df = cuisines_df['cuisine']\n",
    "cuisines_feature_df = cuisines_df.drop(['Unnamed: 0', 'cuisine'], axis=1)\n",
    "cuisines_label_df.head()"
   ]
  },
  {
   "cell_type": "code",
   "execution_count": 6,
   "metadata": {},
   "outputs": [],
   "source": [
    "# ------------------------------------------ Logistic Regression Multiclass Model ------------------------------------------"
   ]
  },
  {
   "cell_type": "code",
   "execution_count": 7,
   "metadata": {},
   "outputs": [],
   "source": [
    "# ---- Split ----\n",
    "X_train, X_test, y_train, y_test = train_test_split(cuisines_feature_df, cuisines_label_df, test_size=0.3)"
   ]
  },
  {
   "cell_type": "code",
   "execution_count": 8,
   "metadata": {},
   "outputs": [],
   "source": [
    "# ---- Model & Train ----\n",
    "lr = LogisticRegression(multi_class='ovr',solver='liblinear')\n",
    "model = lr.fit(X_train, np.ravel(y_train))"
   ]
  },
  {
   "cell_type": "code",
   "execution_count": 9,
   "metadata": {},
   "outputs": [
    {
     "name": "stdout",
     "output_type": "stream",
     "text": [
      "Accuracy is 0.8098415346121768\n"
     ]
    }
   ],
   "source": [
    "# ---- Evaluate ----\n",
    "accuracy = model.score(X_test, y_test)\n",
    "print (\"Accuracy is {}\".format(accuracy))"
   ]
  },
  {
   "cell_type": "code",
   "execution_count": 10,
   "metadata": {},
   "outputs": [
    {
     "name": "stdout",
     "output_type": "stream",
     "text": [
      "ingredients: Index(['coriander', 'cumin', 'fenugreek', 'pepper', 'soy_sauce', 'turmeric'], dtype='object')\n",
      "cuisine: japanese\n"
     ]
    }
   ],
   "source": [
    "# ------ Simple Test ---------\n",
    "print(f'ingredients: {X_test.iloc[50][X_test.iloc[50]!=0].keys()}')\n",
    "print(f'cuisine: {y_test.iloc[50]}')"
   ]
  },
  {
   "cell_type": "code",
   "execution_count": null,
   "metadata": {},
   "outputs": [],
   "source": [
    "test= X_test.iloc[50].values.reshape(-1, 1).T\n",
    "proba = model.predict_proba(test)\n",
    "classes = model.classes_\n",
    "resultdf = pd.DataFrame(data=proba, columns=classes)\n",
    "topPrediction = resultdf.T.sort_values(by=[0], ascending = [False])\n",
    "topPrediction.head()"
   ]
  },
  {
   "cell_type": "code",
   "execution_count": 12,
   "metadata": {},
   "outputs": [],
   "source": [
    "#-------------------------------------------------------- Predict --------------------------------------------------------\n",
    "y_pred = model.predict(X_test)"
   ]
  },
  {
   "cell_type": "code",
   "execution_count": null,
   "metadata": {},
   "outputs": [],
   "source": [
    "#-------------------------------------------------------- Evaluate --------------------------------------------------------\n",
    "print(classification_report(y_test,y_pred))"
   ]
  },
  {
   "cell_type": "code",
   "execution_count": 14,
   "metadata": {},
   "outputs": [],
   "source": [
    "#----------------------------------------------------- Other Classifiers -----------------------------------------------------"
   ]
  },
  {
   "cell_type": "code",
   "execution_count": 15,
   "metadata": {},
   "outputs": [],
   "source": [
    "# ---- Imports ----\n",
    "from sklearn.neighbors import KNeighborsClassifier\n",
    "from sklearn.linear_model import LogisticRegression\n",
    "from sklearn.svm import SVC\n",
    "from sklearn.ensemble import RandomForestClassifier, AdaBoostClassifier\n",
    "from sklearn.model_selection import train_test_split, cross_val_score\n",
    "from sklearn.metrics import accuracy_score,precision_score,confusion_matrix,classification_report, precision_recall_curve\n",
    "import numpy as np"
   ]
  },
  {
   "cell_type": "code",
   "execution_count": 16,
   "metadata": {},
   "outputs": [],
   "source": [
    "# ---- Split Data ----\n",
    "X_train, X_test, y_train, y_test = train_test_split(cuisines_feature_df, cuisines_label_df, test_size=0.3)"
   ]
  },
  {
   "cell_type": "code",
   "execution_count": 17,
   "metadata": {},
   "outputs": [],
   "source": [
    "# ---- Models Setup ----\n",
    "C = 10\n",
    "classifiers = {\n",
    "    'Linear SVC': SVC(kernel='linear', C=C, probability=True,random_state=0),\n",
    "    'SVC': SVC(),\n",
    "    'RFST': RandomForestClassifier(n_estimators=100),\n",
    "    'ADA': AdaBoostClassifier(n_estimators=100)\n",
    "}\n",
    "n_classifiers = len(classifiers)"
   ]
  },
  {
   "cell_type": "code",
   "execution_count": 18,
   "metadata": {},
   "outputs": [
    {
     "name": "stdout",
     "output_type": "stream",
     "text": [
      "Accuracy (train) for Linear SVC: 77.3% \n",
      "              precision    recall  f1-score   support\n",
      "\n",
      "     chinese       0.71      0.69      0.70       268\n",
      "      indian       0.89      0.88      0.88       232\n",
      "    japanese       0.75      0.75      0.75       248\n",
      "      korean       0.85      0.73      0.79       241\n",
      "        thai       0.70      0.84      0.76       210\n",
      "\n",
      "    accuracy                           0.77      1199\n",
      "   macro avg       0.78      0.78      0.78      1199\n",
      "weighted avg       0.78      0.77      0.77      1199\n",
      "\n",
      "Accuracy (train) for SVC: 81.9% \n",
      "              precision    recall  f1-score   support\n",
      "\n",
      "     chinese       0.78      0.75      0.77       268\n",
      "      indian       0.94      0.91      0.92       232\n",
      "    japanese       0.80      0.77      0.79       248\n",
      "      korean       0.90      0.78      0.83       241\n",
      "        thai       0.72      0.90      0.80       210\n",
      "\n",
      "    accuracy                           0.82      1199\n",
      "   macro avg       0.83      0.82      0.82      1199\n",
      "weighted avg       0.83      0.82      0.82      1199\n",
      "\n",
      "Accuracy (train) for RFST: 83.2% \n",
      "              precision    recall  f1-score   support\n",
      "\n",
      "     chinese       0.81      0.78      0.80       268\n",
      "      indian       0.92      0.94      0.93       232\n",
      "    japanese       0.80      0.80      0.80       248\n",
      "      korean       0.88      0.77      0.82       241\n",
      "        thai       0.75      0.89      0.82       210\n",
      "\n",
      "    accuracy                           0.83      1199\n",
      "   macro avg       0.83      0.84      0.83      1199\n",
      "weighted avg       0.83      0.83      0.83      1199\n",
      "\n",
      "Accuracy (train) for ADA: 66.9% \n",
      "              precision    recall  f1-score   support\n",
      "\n",
      "     chinese       0.57      0.48      0.52       268\n",
      "      indian       0.89      0.80      0.85       232\n",
      "    japanese       0.58      0.58      0.58       248\n",
      "      korean       0.71      0.73      0.72       241\n",
      "        thai       0.62      0.81      0.70       210\n",
      "\n",
      "    accuracy                           0.67      1199\n",
      "   macro avg       0.68      0.68      0.67      1199\n",
      "weighted avg       0.67      0.67      0.67      1199\n",
      "\n"
     ]
    }
   ],
   "source": [
    "\n",
    "# ---- Train & Evaluate ----\n",
    "for index, (name, classifier) in enumerate(classifiers.items()):\n",
    "    classifier.fit(X_train, np.ravel(y_train))\n",
    "\n",
    "    y_pred = classifier.predict(X_test)\n",
    "    accuracy = accuracy_score(y_test, y_pred)\n",
    "    print(\"Accuracy (train) for %s: %0.1f%% \" % (name, accuracy * 100))\n",
    "    print(classification_report(y_test,y_pred))"
   ]
  }
 ],
 "metadata": {
  "kernelspec": {
   "display_name": "Python 3",
   "language": "python",
   "name": "python3"
  },
  "language_info": {
   "codemirror_mode": {
    "name": "ipython",
    "version": 3
   },
   "file_extension": ".py",
   "mimetype": "text/x-python",
   "name": "python",
   "nbconvert_exporter": "python",
   "pygments_lexer": "ipython3",
   "version": "3.11.5"
  },
  "orig_nbformat": 4
 },
 "nbformat": 4,
 "nbformat_minor": 2
}
