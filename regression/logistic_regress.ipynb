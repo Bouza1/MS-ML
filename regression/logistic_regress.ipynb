{
 "cells": [
  {
   "cell_type": "code",
   "execution_count": null,
   "metadata": {},
   "outputs": [],
   "source": [
    "# ------------------------------------------ Imports ------------------------------------------\n",
    "import pandas as pd\n",
    "import numpy as np"
   ]
  },
  {
   "cell_type": "code",
   "execution_count": null,
   "metadata": {},
   "outputs": [],
   "source": [
    "\n",
    "# ------------------------------------------ Load Data ------------------------------------------\n",
    "full_pumpkins = pd.read_csv('US-pumpkins.csv')\n",
    "full_pumpkins.head()"
   ]
  },
  {
   "cell_type": "code",
   "execution_count": null,
   "metadata": {},
   "outputs": [],
   "source": [
    "# ------------------------------------------ Clean Data ------------------------------------------\n",
    "columns_to_select = ['City Name','Package','Variety', 'Origin','Item Size', 'Color']\n",
    "pumpkins = full_pumpkins.loc[:, columns_to_select]\n",
    "pumpkins.dropna(inplace=True)\n",
    "pumpkins.info"
   ]
  },
  {
   "cell_type": "code",
   "execution_count": null,
   "metadata": {},
   "outputs": [],
   "source": [
    "# ----------------------------------------- Visualize -----------------------------------------\n",
    "import seaborn as sns\n",
    "\n",
    "palette = {\n",
    "'ORANGE': 'orange',\n",
    "'WHITE': 'wheat',\n",
    "}\n",
    "\n",
    "sns.catplot(\n",
    "data=pumpkins, y=\"Variety\", hue=\"Color\", kind=\"count\",\n",
    "palette=palette, \n",
    ")"
   ]
  },
  {
   "cell_type": "code",
   "execution_count": null,
   "metadata": {},
   "outputs": [],
   "source": [
    "# ----------------------------------------- Feature Encoding -----------------------------------------\n",
    "# Ordinal\n",
    "from sklearn.preprocessing import OrdinalEncoder\n",
    "item_size_categories = [['sml', 'med', 'med-lge', 'lge', 'xlge', 'jbo', 'exjbo']]\n",
    "ordinal_features = ['Item Size']\n",
    "ordinal_encoder = OrdinalEncoder(categories=item_size_categories)\n",
    "# One Hot\n",
    "from sklearn.preprocessing import OneHotEncoder\n",
    "categorical_features = ['City Name', 'Package', 'Variety', 'Origin']\n",
    "categorical_encoder = OneHotEncoder(sparse_output=False)\n",
    "# Transform Columns\n",
    "from sklearn.compose import ColumnTransformer\n",
    "ct = ColumnTransformer(transformers=[\n",
    "    ('ord', ordinal_encoder, ordinal_features),\n",
    "    ('cat', categorical_encoder, categorical_features)\n",
    "    ])\n",
    "ct.set_output(transform='pandas')\n",
    "encoded_features = ct.fit_transform(pumpkins)"
   ]
  },
  {
   "cell_type": "code",
   "execution_count": null,
   "metadata": {},
   "outputs": [],
   "source": [
    "# ----------------------------------------- Label Encoding -----------------------------------------\n",
    "from sklearn.preprocessing import LabelEncoder\n",
    "label_encoder = LabelEncoder()\n",
    "encoded_label = label_encoder.fit_transform(pumpkins['Color'])"
   ]
  },
  {
   "cell_type": "code",
   "execution_count": null,
   "metadata": {},
   "outputs": [],
   "source": [
    "encoded_pumpkins = encoded_features.assign(Color=encoded_label)\n",
    "print(encoded_pumpkins)"
   ]
  },
  {
   "cell_type": "code",
   "execution_count": null,
   "metadata": {},
   "outputs": [],
   "source": [
    "# ----------------------------- Analyze Relationship Between Variables -----------------------------\n",
    "palette = {\n",
    "    'ORANGE': 'orange',\n",
    "    'WHITE': 'wheat',\n",
    "}\n",
    "pumpkins['Item Size'] = encoded_pumpkins['ord__Item Size']\n",
    "\n",
    "g = sns.catplot(\n",
    "    data=pumpkins,\n",
    "    x=\"Item Size\", y=\"Color\", row='Variety',\n",
    "    kind=\"box\", orient=\"h\",\n",
    "    sharex=False, margin_titles=True,\n",
    "    height=1.8, aspect=4, palette=palette,\n",
    ")\n",
    "g.set(xlabel=\"Item Size\", ylabel=\"\").set(xlim=(0,6))\n",
    "g.set_titles(row_template=\"{row_name}\")"
   ]
  },
  {
   "cell_type": "code",
   "execution_count": null,
   "metadata": {},
   "outputs": [],
   "source": [
    "# ---------------------------- Swarm Plot ----------------------------\n",
    "palette = {\n",
    "    '0': 'orange',\n",
    "    '1': 'wheat'\n",
    "}\n",
    "sns.swarmplot(x=\"Color\", y=\"ord__Item Size\", data=encoded_pumpkins, palette=palette)"
   ]
  },
  {
   "cell_type": "code",
   "execution_count": null,
   "metadata": {},
   "outputs": [],
   "source": [
    "# ---------------------------------------------- Build Model ----------------------------------------------\n",
    "from sklearn.model_selection import train_test_split\n",
    "X = encoded_pumpkins[encoded_pumpkins.columns.difference(['Color'])]\n",
    "y = encoded_pumpkins['Color']\n",
    "X_train, X_test, y_train, y_test = train_test_split(X, y, test_size=0.2, random_state=0)"
   ]
  },
  {
   "cell_type": "code",
   "execution_count": null,
   "metadata": {},
   "outputs": [],
   "source": [
    "# ---------------------------------------------- Train Model ----------------------------------------------\n",
    "from sklearn.metrics import f1_score, classification_report \n",
    "from sklearn.linear_model import LogisticRegression\n",
    "model = LogisticRegression()\n",
    "model.fit(X_train, y_train)"
   ]
  },
  {
   "cell_type": "code",
   "execution_count": null,
   "metadata": {},
   "outputs": [],
   "source": [
    "# ---------------------------------------------- Predict ----------------------------------------------\n",
    "predictions = model.predict(X_test)"
   ]
  },
  {
   "cell_type": "code",
   "execution_count": null,
   "metadata": {},
   "outputs": [],
   "source": [
    "# ---------------------------------------------- Evaluate ----------------------------------------------\n",
    "print(classification_report(y_test, predictions))\n",
    "print('Predicted labels: ', predictions)\n",
    "print('F1-score: ', f1_score(y_test, predictions))"
   ]
  },
  {
   "cell_type": "code",
   "execution_count": null,
   "metadata": {},
   "outputs": [],
   "source": [
    "from sklearn.metrics import confusion_matrix\n",
    "confusion_matrix(y_test, predictions)"
   ]
  },
  {
   "cell_type": "code",
   "execution_count": null,
   "metadata": {},
   "outputs": [],
   "source": [
    "# ------------------------------------------------ ROC CURVE ------------------------------------------------"
   ]
  },
  {
   "cell_type": "code",
   "execution_count": null,
   "metadata": {},
   "outputs": [],
   "source": [
    "from sklearn.metrics import roc_curve, roc_auc_score\n",
    "import matplotlib\n",
    "import matplotlib.pyplot as plt\n",
    "%matplotlib inline\n",
    "\n",
    "y_scores = model.predict_proba(X_test)\n",
    "fpr, tpr, thresholds = roc_curve(y_test, y_scores[:,1])\n",
    "\n",
    "fig = plt.figure(figsize=(6, 6))\n",
    "plt.plot([0, 1], [0, 1], 'k--')\n",
    "plt.plot(fpr, tpr)\n",
    "plt.xlabel('False Positive Rate')\n",
    "plt.ylabel('True Positive Rate')\n",
    "plt.title('ROC Curve')\n",
    "plt.show()"
   ]
  },
  {
   "cell_type": "code",
   "execution_count": null,
   "metadata": {},
   "outputs": [],
   "source": [
    "# ---- Area Under Cover ----\n",
    "auc = roc_auc_score(y_test,y_scores[:,1])\n",
    "print(auc)"
   ]
  }
 ],
 "metadata": {
  "kernelspec": {
   "display_name": "Python 3",
   "language": "python",
   "name": "python3"
  },
  "language_info": {
   "codemirror_mode": {
    "name": "ipython",
    "version": 3
   },
   "file_extension": ".py",
   "mimetype": "text/x-python",
   "name": "python",
   "nbconvert_exporter": "python",
   "pygments_lexer": "ipython3",
   "version": "3.11.4"
  },
  "orig_nbformat": 4
 },
 "nbformat": 4,
 "nbformat_minor": 2
}
